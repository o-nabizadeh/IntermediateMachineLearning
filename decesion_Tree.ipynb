{
 "cells": [
  {
   "cell_type": "code",
   "execution_count": 3,
   "id": "49b06a99",
   "metadata": {},
   "outputs": [],
   "source": [
    "import pandas as pd \n",
    "import numpy as np \n"
   ]
  },
  {
   "cell_type": "code",
   "execution_count": null,
   "id": "ed6f3504",
   "metadata": {},
   "outputs": [],
   "source": [
    "df = pd.read_csv(\"UCI_Credit_Card.csv\")\n",
    "\n",
    "print(f\"تعداد نمونه ها:{df.shape[0]}\")\n",
    "print(f\"تعداد ویژگی ها: {df.shape[1]}\")\n",
    "\n",
    "df.dtypes\n",
    "\n",
    "df.describe()\n"
   ]
  },
  {
   "cell_type": "code",
   "execution_count": null,
   "id": "2149dc7f",
   "metadata": {},
   "outputs": [],
   "source": [
    "df.columns\n",
    "\n",
    "df['default.payment.next.month'].value_counts()"
   ]
  },
  {
   "cell_type": "code",
   "execution_count": null,
   "id": "dbb2b487",
   "metadata": {},
   "outputs": [],
   "source": [
    "if 'ID' in df.columns:\n",
    "    df.drop(columns=['ID'], inplace=True)\n"
   ]
  },
  {
   "cell_type": "code",
   "execution_count": null,
   "id": "872fc25e",
   "metadata": {},
   "outputs": [],
   "source": [
    "# بررسی وجود داده‌های گمشده\n",
    "print(df.isnull().sum())\n"
   ]
  },
  {
   "cell_type": "code",
   "execution_count": null,
   "id": "060c7325",
   "metadata": {},
   "outputs": [],
   "source": [
    "# بررسی مقادیر یونیک برخی ستون‌های دسته‌ای\n",
    "print(\"SEX:\", df['SEX'].value_counts())\n",
    "print(\"EDUCATION:\", df['EDUCATION'].value_counts())\n",
    "print(\"MARRIAGE:\", df['MARRIAGE'].value_counts())\n"
   ]
  },
  {
   "cell_type": "code",
   "execution_count": null,
   "id": "fe80a0e6",
   "metadata": {},
   "outputs": [],
   "source": [
    "print(\"default.payment.next.month:\", df['default.payment.next.month'].value_counts())\n"
   ]
  },
  {
   "cell_type": "code",
   "execution_count": null,
   "id": "62080a63",
   "metadata": {},
   "outputs": [],
   "source": [
    "df['EDUCATION'] = df['EDUCATION'].replace([0, 4, 5, 6], 0)\n"
   ]
  },
  {
   "cell_type": "code",
   "execution_count": null,
   "id": "9c8d0e43",
   "metadata": {},
   "outputs": [],
   "source": [
    "df['MARRIAGE'] = df['MARRIAGE'].replace([0, 3], 0)\n"
   ]
  },
  {
   "cell_type": "code",
   "execution_count": null,
   "id": "dde8e34e",
   "metadata": {},
   "outputs": [],
   "source": [
    "print(df['EDUCATION'].value_counts())\n",
    "print(df['MARRIAGE'].value_counts())\n"
   ]
  },
  {
   "cell_type": "code",
   "execution_count": null,
   "id": "8a3dad78",
   "metadata": {},
   "outputs": [],
   "source": [
    "categorical_cols = ['SEX', 'EDUCATION', 'MARRIAGE']\n",
    "for col in categorical_cols:\n",
    "    df[col] = df[col].astype('category')\n"
   ]
  },
  {
   "cell_type": "code",
   "execution_count": null,
   "id": "ff22777a",
   "metadata": {},
   "outputs": [],
   "source": [
    "X = df.drop(columns=['default.payment.next.month'])\n",
    "y = df['default.payment.next.month']\n"
   ]
  },
  {
   "cell_type": "code",
   "execution_count": null,
   "id": "6687fdaf",
   "metadata": {},
   "outputs": [],
   "source": [
    "X_encoded = pd.get_dummies(X, drop_first=True)\n"
   ]
  },
  {
   "cell_type": "code",
   "execution_count": null,
   "id": "3e886388",
   "metadata": {},
   "outputs": [],
   "source": [
    "from sklearn.model_selection import train_test_split\n",
    "\n",
    "X_train, X_test, y_train, y_test = train_test_split(\n",
    "    X_encoded, y, test_size=0.3, random_state=42, stratify=y\n",
    ")\n"
   ]
  },
  {
   "cell_type": "code",
   "execution_count": null,
   "id": "d147d814",
   "metadata": {},
   "outputs": [],
   "source": [
    "from sklearn.tree import DecisionTreeClassifier\n",
    "\n",
    "model = DecisionTreeClassifier(random_state=42, max_depth=5)  # max_depth برای جلوگیری از بیش‌برازش\n",
    "model.fit(X_train, y_train)\n"
   ]
  },
  {
   "cell_type": "code",
   "execution_count": null,
   "id": "ebb53ed9",
   "metadata": {},
   "outputs": [],
   "source": [
    "from sklearn.metrics import classification_report, confusion_matrix\n",
    "\n",
    "y_pred = model.predict(X_test)\n",
    "report = classification_report(y_test, y_pred, output_dict=True)\n",
    "conf_matrix = confusion_matrix(y_test, y_pred)\n"
   ]
  }
 ],
 "metadata": {
  "kernelspec": {
   "display_name": "Python 3",
   "language": "python",
   "name": "python3"
  },
  "language_info": {
   "codemirror_mode": {
    "name": "ipython",
    "version": 3
   },
   "file_extension": ".py",
   "mimetype": "text/x-python",
   "name": "python",
   "nbconvert_exporter": "python",
   "pygments_lexer": "ipython3",
   "version": "3.12.0"
  }
 },
 "nbformat": 4,
 "nbformat_minor": 5
}
